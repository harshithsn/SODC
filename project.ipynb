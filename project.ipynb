{
 "cells": [
  {
   "cell_type": "markdown",
   "metadata": {},
   "source": [
    "# EC444 Synthesis and optimization of digital circuits"
   ]
  },
  {
   "cell_type": "markdown",
   "metadata": {},
   "source": [
    "1. Ram Janam Yadav  181EC136\n",
    "\n",
    "2. Harshith         181EC116"
   ]
  },
  {
   "cell_type": "markdown",
   "metadata": {},
   "source": [
    "Given a SoP form of Boolean expression, write a program ( in python/C/Java/TclTk/Pearl) to\n",
    "1. Find the cofactors of the function with respect to any given variable or a set of variables (a, ab ab’ etc) and display the results.\n",
    "2. For a given variable ordering, find and display the ROBDD of the function."
   ]
  },
  {
   "cell_type": "markdown",
   "metadata": {},
   "source": [
    "Part-1 finding the cofactors"
   ]
  },
  {
   "cell_type": "code",
   "execution_count": 1,
   "metadata": {},
   "outputs": [],
   "source": [
    "\"\"\"Import All required Libraries\"\"\"\n",
    "import copy\n",
    "\n",
    "def variable_seperation(cube):\n",
    "    \"\"\"function is used for the variable separation from given sop form of boolean expression\"\"\"\n",
    "    var = []\n",
    "    for c in cube: \n",
    "        b = []\n",
    "        a = list(c)\n",
    "        a.append(\" \") \n",
    "        for i in range(len(a)-1):\n",
    "            if a[i+1] == \"'\":\n",
    "                l = \"\".join(a[i]+a[i+1])\n",
    "            elif a[i] == \"'\" or a[i] == \" \":\n",
    "                continue\n",
    "            else:\n",
    "                l = a[i]\n",
    "            b.append(l)\n",
    "            for z in range(len(b)):\n",
    "                for y in range(len(b)):\n",
    "                    x = y+z+1\n",
    "                    if x<len(b) and b[z] == b[x]:\n",
    "                        b.pop(x)\n",
    "                        x = x-1\n",
    "        var.append(b)\n",
    "    return var"
   ]
  },
  {
   "cell_type": "code",
   "execution_count": 2,
   "metadata": {},
   "outputs": [
    {
     "name": "stdout",
     "output_type": "stream",
     "text": [
      "Put function here: ab+cd\n",
      "put set of variable with respect to which you want the cofactor for ex a,ab,ab' : ac'\n",
      "['ab', 'cd']\n"
     ]
    }
   ],
   "source": [
    "fn = input(\"Put function here: \" )\n",
    "cf_fn = input(\"put set of variable with respect to which you want the cofactor for ex a,ab,ab' : \")\n",
    "\n",
    "cubes = fn.split('+')\n",
    "print(cubes)\n",
    "fn_vars = variable_seperation(cubes)# variables in given sop expression after variable separation\n",
    "cf_vars = variable_seperation(cf_fn.split(\" \"))#split the cofactor variables\n",
    "co_py = copy.deepcopy(fn_vars)"
   ]
  },
  {
   "cell_type": "code",
   "execution_count": 3,
   "metadata": {},
   "outputs": [
    {
     "name": "stdout",
     "output_type": "stream",
     "text": [
      "[['a', 'b'], ['c', 'd']]\n"
     ]
    }
   ],
   "source": [
    "print(fn_vars)\n"
   ]
  },
  {
   "cell_type": "code",
   "execution_count": 4,
   "metadata": {},
   "outputs": [
    {
     "name": "stdout",
     "output_type": "stream",
     "text": [
      "[['a', \"c'\"]]\n"
     ]
    }
   ],
   "source": [
    "print(cf_vars)"
   ]
  },
  {
   "cell_type": "code",
   "execution_count": 5,
   "metadata": {},
   "outputs": [
    {
     "name": "stdout",
     "output_type": "stream",
     "text": [
      "[['a', 'b'], ['c', 'd']]\n"
     ]
    }
   ],
   "source": [
    "print(co_py)"
   ]
  },
  {
   "cell_type": "code",
   "execution_count": 6,
   "metadata": {},
   "outputs": [
    {
     "name": "stdout",
     "output_type": "stream",
     "text": [
      "cofactor with respect to given variable or set of variables is b\n"
     ]
    }
   ],
   "source": [
    "for i in range(len(cf_vars[0])):\n",
    "    var = cf_vars[0][i]\n",
    "    if co_py[0][0] == '1':\n",
    "            break\n",
    "    a = 0\n",
    "    b = [0]* len(co_py)\n",
    "    for j in range(len(co_py)):\n",
    "        t = 0\n",
    "        for h in range(len(co_py[j-a])):       \n",
    "            if co_py and co_py[j-a] and var[0] == co_py[j-a][h-b[j-a]][0]:\n",
    "                if len(var) == len(co_py[j-a][h-b[j-a]]):\n",
    "                    co_py[j-a].pop(h-b[j-a])\n",
    "                    b[j-a] = b[j-a]+1\n",
    "                    if not co_py[j-a]:\n",
    "                        co_py = [['1']]\n",
    "                        break\n",
    "                else:\n",
    "                    co_py.pop(j-a)\n",
    "                    t = 1\n",
    "                    a = a + 1\n",
    "                if t == 1:\n",
    "                    break\n",
    "        if not co_py:\n",
    "            co_py = [['0']]\n",
    "        elif co_py[0][0] == '1':\n",
    "            break \n",
    "\n",
    "\n",
    "i = []\n",
    "for j in co_py:\n",
    "    i.append(\"\".join(j))\n",
    "    \n",
    "output = \"+\".join(i)\n",
    "print('cofactor with respect to given variable or set of variables is',output)\n"
   ]
  },
  {
   "cell_type": "markdown",
   "metadata": {},
   "source": [
    "Part 2 For a given variable ordering, find and display the ROBDD of the function."
   ]
  },
  {
   "cell_type": "code",
   "execution_count": 7,
   "metadata": {},
   "outputs": [
    {
     "name": "stdout",
     "output_type": "stream",
     "text": [
      "Enter function here: ab+cd\n",
      "Enter variable order here: a b c d\n",
      "depth_first_traversals_inorder\n",
      "0\n",
      "c\n",
      "0\n",
      "d\n",
      "1\n",
      "a\n",
      "0\n",
      "c\n",
      "0\n",
      "d\n",
      "1\n",
      "b\n",
      "1\n"
     ]
    }
   ],
   "source": [
    "class node:\n",
    "    \"\"\"Class to create the nodes of graph\"\"\"\n",
    "    def __init__(self, val = None):\n",
    "        \"\"\"Initialization of the Node of graph which have one high pointer->1 and other low pointer->0\"\"\"\n",
    "        self.var = val\n",
    "        self.high = None\n",
    "        self.low = None\n",
    "        \n",
    "node_low = node(\"0\")\n",
    "node_high = node(\"1\")\n",
    "\n",
    "def get_put_UT(key, node_):\n",
    "    \"\"\"Used to create the Unique Table for The Nodes in graph\"\"\"\n",
    "    if key in unique_table.keys():\n",
    "        #print(1)\n",
    "        return unique_table[key]\n",
    "    else:\n",
    "        unique_table[key] = node_\n",
    "        return node_\n",
    "\n",
    "def var_sep(cube):\n",
    "    \"\"\"function is used for the variable separation from given sop form of boolean expression\"\"\"\n",
    "    d = []\n",
    "    for c in cube: \n",
    "        b = []\n",
    "        a = list(c)\n",
    "        a.append(\" \") \n",
    "        for i in range(len(a)-1):\n",
    "            if a[i+1] == \"'\":\n",
    "                l = \"\".join(a[i]+a[i+1])\n",
    "            elif a[i] == \"'\" or a[i] == \" \":\n",
    "                continue\n",
    "            else:\n",
    "                l = a[i]\n",
    "            b.append(l)\n",
    "            for z in range(len(b)):\n",
    "                for y in range(len(b)):\n",
    "                    x = y+z+1\n",
    "                    if x<len(b) and b[z] == b[x]:\n",
    "                        b.pop(x)\n",
    "                        x = x-1\n",
    "        d.append(b)\n",
    "    return d\n",
    "\n",
    "def cofactor(fn,var_):\n",
    "    \"\"\"Function is Used to calculate the Cofactor of the fn w.r.t given variable\"\"\"\n",
    "    cubes = fn.split('+')\n",
    "    fn_vars = var_sep(cubes)\n",
    "    cf_vars = var_sep(var_.split(\" \"))\n",
    "    co_py = copy.deepcopy(fn_vars)\n",
    "    for i in range(len(cf_vars[0])):\n",
    "        var = cf_vars[0][i]\n",
    "        if co_py[0][0] == '1':\n",
    "            break\n",
    "        a = 0\n",
    "        b = [0]* len(co_py)\n",
    "        for j in range(len(co_py)):\n",
    "            t = 0\n",
    "            for h in range(len(co_py[j-a])):       \n",
    "                if co_py and co_py[j-a] and var[0] == co_py[j-a][h-b[j-a]][0]:\n",
    "                    if len(var) == len(co_py[j-a][h-b[j-a]]):\n",
    "                        co_py[j-a].pop(h-b[j-a])\n",
    "                        b[j-a] = b[j-a]+1\n",
    "                        \n",
    "                        if not co_py[j-a]:\n",
    "                            co_py = [['1']]\n",
    "                            break\n",
    "                    else:\n",
    "                        co_py.pop(j-a)\n",
    "                        t = 1\n",
    "                        a = a + 1\n",
    "\n",
    "                    if t == 1:\n",
    "                        break\n",
    "            if not co_py:\n",
    "                co_py = [['0']]\n",
    "            elif co_py[0][0] == '1':\n",
    "                break \n",
    "    i = []\n",
    "    for j in co_py:\n",
    "        i.append(\"\".join(j))\n",
    "    output = \"+\".join(i)\n",
    "    return output\n",
    "\n",
    "def depth_first_traversals_inorder(top): \n",
    "    \"\"\"Function is used for DFS traversal of the resultant graph\"\"\"\n",
    "    if top: \n",
    "        depth_first_traversals_inorder(top.low) \n",
    "        print(top.var)\n",
    "        depth_first_traversals_inorder(top.high)\n",
    "\n",
    "def ite(function, variable_order, i):\n",
    "    \"\"\"Iterative Algorithm implementation for ROBDD construction\"\"\"\n",
    "    var = variable_order[i]\n",
    "    cofactor_high = cofactor(function, var)\n",
    "    var_bar = var+\"'\"\n",
    "    cofactor_low = cofactor(function, var_bar)\n",
    "    key = var + cofactor_high + cofactor_low\n",
    "    node_ = node(var)\n",
    "    if cofactor_high==\"0\":\n",
    "        node_.high = node_low\n",
    "    if cofactor_high==\"1\":\n",
    "        node_.high = node_high\n",
    "    if cofactor_low==\"0\":\n",
    "        node_.low = node_low\n",
    "    if cofactor_low == \"1\":\n",
    "        node_.low = node_high\n",
    "        \n",
    "    if node_.high == None:\n",
    "        node_.high = ite(cofactor_high, variable_order, i+1)\n",
    "    if node_.low == None:\n",
    "        node_.low = ite(cofactor_low, variable_order, i+1)\n",
    "    \n",
    "    node_ = get_put_UT(key, node_)\n",
    "    if node_.high == node_.low:\n",
    "        return node_.high\n",
    "    return node_\n",
    "\n",
    "unique_table = {}\n",
    "\n",
    "fn = input('Enter function here: ')\n",
    "var_order = list(input('Enter variable order here: '))\n",
    "\n",
    "robdd = ite(fn, var_order, 0)\n",
    "\n",
    "print(\"depth_first_traversals_inorder\")\n",
    "depth_first_traversals_inorder(robdd)\n"
   ]
  },
  {
   "cell_type": "code",
   "execution_count": 8,
   "metadata": {},
   "outputs": [
    {
     "name": "stdout",
     "output_type": "stream",
     "text": [
      "Enter function here: ab+cd+efg+ghi\n",
      "Enter variable order here: a b c d e f g h i\n"
     ]
    }
   ],
   "source": [
    "def ite1(G,function, variable_order, i):\n",
    "    \"\"\"Iterative Algorithm implementation for ROBDD construction\"\"\"\n",
    "    var = variable_order[i]\n",
    "    cofactor_high = cofactor(function, var)\n",
    "    var_bar = var+\"'\"\n",
    "    cofactor_low = cofactor(function, var_bar)\n",
    "    key = var + cofactor_high + cofactor_low\n",
    "    node_ = node(var)\n",
    "    if cofactor_high==\"0\":\n",
    "        node_.high = node_low\n",
    "        G.add_edge(node_.var,node_.high.var)\n",
    "    if cofactor_high==\"1\":\n",
    "        node_.high = node_high\n",
    "        G.add_edge(node_.var,node_.high.var)\n",
    "    if cofactor_low==\"0\":\n",
    "        node_.low = node_low\n",
    "        G.add_edge(node_.var,node_.low.var)\n",
    "    if cofactor_low == \"1\":\n",
    "        node_.low = node_high\n",
    "        G.add_edge(node_.var,node_.low.var)\n",
    "        \n",
    "    if node_.high == None:\n",
    "        node_.high = ite1(G, cofactor_high, variable_order, i+1)\n",
    "        if(node_.high!=None):\n",
    "            G.add_edge(node_.var, node_.high.var)\n",
    "    if node_.low == None:\n",
    "        node_.low = ite1(G, cofactor_low, variable_order, i+1)\n",
    "        if(node_.low!=None):\n",
    "            G.add_edge(node_.var, node_.low.var)\n",
    "    \n",
    "    node_ = get_put_UT(key, node_)\n",
    "    if node_.high == node_.low:\n",
    "        return node_.high\n",
    "    return node_\n",
    "\n",
    "\n",
    "import networkx as nx\n",
    "G = nx.Graph()\n",
    "unique_table = {}\n",
    "\n",
    "fn = input('Enter function here: ')\n",
    "var_order = list(input('Enter variable order here: '))\n",
    "\n",
    "robdd = ite1(G, fn, var_order, 0)"
   ]
  },
  {
   "cell_type": "code",
   "execution_count": 9,
   "metadata": {},
   "outputs": [
    {
     "data": {
      "image/png": "[encoded data removed]",
      "text/plain": [
       "<Figure size 432x288 with 1 Axes>"
      ]
     },
     "metadata": {},
     "output_type": "display_data"
    }
   ],
   "source": [
    "from networkx.drawing.nx_pydot import graphviz_layout\n",
    "pos = graphviz_layout(G, prog=\"dot\")\n",
    "nx.draw(G,with_labels=True)"
   ]
  },
  {
   "cell_type": "code",
   "execution_count": 11,
   "metadata": {},
   "outputs": [
    {
     "name": "stdout",
     "output_type": "stream",
     "text": [
      "All connected edge in the graph [('b', '1'), ('b', 'c'), ('b', ' '), ('b', 'a'), ('1', 'd'), ('1', 'g'), ('1', 'i'), ('d', 'e'), ('d', ' '), ('d', 'c'), ('g', '0'), ('g', ' '), ('g', 'f'), ('g', 'h'), ('g', 'e'), ('0', 'h'), ('0', 'i'), (' ', 'i'), (' ', 'h'), (' ', 'f'), (' ', 'e'), (' ', 'c'), ('f', 'e'), ('h', 'i'), ('e', 'c'), ('c', 'a')]\n"
     ]
    }
   ],
   "source": [
    "print(\"All connected edge in the graph\",G.edges())"
   ]
  },
  {
   "cell_type": "markdown",
   "metadata": {},
   "source": [
    "# Thank You!"
   ]
  },
  {
   "cell_type": "code",
   "execution_count": null,
   "metadata": {},
   "outputs": [],
   "source": []
  }
 ],
 "metadata": {
  "kernelspec": {
   "display_name": "Python 3",
   "language": "python",
   "name": "python3"
  },
  "language_info": {
   "codemirror_mode": {
    "name": "ipython",
    "version": 3
   },
   "file_extension": ".py",
   "mimetype": "text/x-python",
   "name": "python",
   "nbconvert_exporter": "python",
   "pygments_lexer": "ipython3",
   "version": "3.8.3"
  }
 },
 "nbformat": 4,
 "nbformat_minor": 4
}
